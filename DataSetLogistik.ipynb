{
 "cells": [
  {
   "cell_type": "code",
   "execution_count": 1,
   "metadata": {},
   "outputs": [],
   "source": [
    "import pandas as pd\n",
    "import pylab as pl\n",
    "import numpy as np\n",
    "import scipy.optimize as opt\n",
    "from sklearn import preprocessing\n",
    "%matplotlib inline \n",
    "import matplotlib.pyplot as plt"
   ]
  },
  {
   "cell_type": "code",
   "execution_count": 4,
   "metadata": {},
   "outputs": [
    {
     "data": {
      "text/html": [
       "<div>\n",
       "<style scoped>\n",
       "    .dataframe tbody tr th:only-of-type {\n",
       "        vertical-align: middle;\n",
       "    }\n",
       "\n",
       "    .dataframe tbody tr th {\n",
       "        vertical-align: top;\n",
       "    }\n",
       "\n",
       "    .dataframe thead th {\n",
       "        text-align: right;\n",
       "    }\n",
       "</style>\n",
       "<table border=\"1\" class=\"dataframe\">\n",
       "  <thead>\n",
       "    <tr style=\"text-align: right;\">\n",
       "      <th></th>\n",
       "      <th>sex</th>\n",
       "      <th>age</th>\n",
       "      <th>Time</th>\n",
       "      <th>Number_of_Warts</th>\n",
       "      <th>Type</th>\n",
       "      <th>Area</th>\n",
       "      <th>induration_diameter</th>\n",
       "      <th>Result_of_Treatment</th>\n",
       "    </tr>\n",
       "  </thead>\n",
       "  <tbody>\n",
       "    <tr>\n",
       "      <th>0</th>\n",
       "      <td>1</td>\n",
       "      <td>22</td>\n",
       "      <td>2.25</td>\n",
       "      <td>14</td>\n",
       "      <td>3</td>\n",
       "      <td>51</td>\n",
       "      <td>50</td>\n",
       "      <td>1</td>\n",
       "    </tr>\n",
       "    <tr>\n",
       "      <th>1</th>\n",
       "      <td>1</td>\n",
       "      <td>15</td>\n",
       "      <td>3.00</td>\n",
       "      <td>2</td>\n",
       "      <td>3</td>\n",
       "      <td>900</td>\n",
       "      <td>70</td>\n",
       "      <td>1</td>\n",
       "    </tr>\n",
       "    <tr>\n",
       "      <th>2</th>\n",
       "      <td>1</td>\n",
       "      <td>16</td>\n",
       "      <td>10.50</td>\n",
       "      <td>2</td>\n",
       "      <td>1</td>\n",
       "      <td>100</td>\n",
       "      <td>25</td>\n",
       "      <td>1</td>\n",
       "    </tr>\n",
       "    <tr>\n",
       "      <th>3</th>\n",
       "      <td>1</td>\n",
       "      <td>27</td>\n",
       "      <td>4.50</td>\n",
       "      <td>9</td>\n",
       "      <td>3</td>\n",
       "      <td>80</td>\n",
       "      <td>30</td>\n",
       "      <td>1</td>\n",
       "    </tr>\n",
       "    <tr>\n",
       "      <th>4</th>\n",
       "      <td>1</td>\n",
       "      <td>20</td>\n",
       "      <td>8.00</td>\n",
       "      <td>6</td>\n",
       "      <td>1</td>\n",
       "      <td>45</td>\n",
       "      <td>8</td>\n",
       "      <td>1</td>\n",
       "    </tr>\n",
       "  </tbody>\n",
       "</table>\n",
       "</div>"
      ],
      "text/plain": [
       "   sex  age   Time  Number_of_Warts  Type  Area  induration_diameter  \\\n",
       "0    1   22   2.25               14     3    51                   50   \n",
       "1    1   15   3.00                2     3   900                   70   \n",
       "2    1   16  10.50                2     1   100                   25   \n",
       "3    1   27   4.50                9     3    80                   30   \n",
       "4    1   20   8.00                6     1    45                    8   \n",
       "\n",
       "   Result_of_Treatment  \n",
       "0                    1  \n",
       "1                    1  \n",
       "2                    1  \n",
       "3                    1  \n",
       "4                    1  "
      ]
     },
     "execution_count": 4,
     "metadata": {},
     "output_type": "execute_result"
    }
   ],
   "source": [
    "churn_df = pd.read_csv(\"Immunotherapy.csv\")\n",
    "churn_df.head()"
   ]
  },
  {
   "cell_type": "code",
   "execution_count": 5,
   "metadata": {},
   "outputs": [
    {
     "data": {
      "text/html": [
       "<div>\n",
       "<style scoped>\n",
       "    .dataframe tbody tr th:only-of-type {\n",
       "        vertical-align: middle;\n",
       "    }\n",
       "\n",
       "    .dataframe tbody tr th {\n",
       "        vertical-align: top;\n",
       "    }\n",
       "\n",
       "    .dataframe thead th {\n",
       "        text-align: right;\n",
       "    }\n",
       "</style>\n",
       "<table border=\"1\" class=\"dataframe\">\n",
       "  <thead>\n",
       "    <tr style=\"text-align: right;\">\n",
       "      <th></th>\n",
       "      <th>sex</th>\n",
       "      <th>age</th>\n",
       "      <th>Time</th>\n",
       "      <th>Number_of_Warts</th>\n",
       "      <th>Result_of_Treatment</th>\n",
       "    </tr>\n",
       "  </thead>\n",
       "  <tbody>\n",
       "    <tr>\n",
       "      <th>0</th>\n",
       "      <td>1</td>\n",
       "      <td>22</td>\n",
       "      <td>2.25</td>\n",
       "      <td>14</td>\n",
       "      <td>1</td>\n",
       "    </tr>\n",
       "    <tr>\n",
       "      <th>1</th>\n",
       "      <td>1</td>\n",
       "      <td>15</td>\n",
       "      <td>3.00</td>\n",
       "      <td>2</td>\n",
       "      <td>1</td>\n",
       "    </tr>\n",
       "    <tr>\n",
       "      <th>2</th>\n",
       "      <td>1</td>\n",
       "      <td>16</td>\n",
       "      <td>10.50</td>\n",
       "      <td>2</td>\n",
       "      <td>1</td>\n",
       "    </tr>\n",
       "    <tr>\n",
       "      <th>3</th>\n",
       "      <td>1</td>\n",
       "      <td>27</td>\n",
       "      <td>4.50</td>\n",
       "      <td>9</td>\n",
       "      <td>1</td>\n",
       "    </tr>\n",
       "    <tr>\n",
       "      <th>4</th>\n",
       "      <td>1</td>\n",
       "      <td>20</td>\n",
       "      <td>8.00</td>\n",
       "      <td>6</td>\n",
       "      <td>1</td>\n",
       "    </tr>\n",
       "  </tbody>\n",
       "</table>\n",
       "</div>"
      ],
      "text/plain": [
       "   sex  age   Time  Number_of_Warts  Result_of_Treatment\n",
       "0    1   22   2.25               14                    1\n",
       "1    1   15   3.00                2                    1\n",
       "2    1   16  10.50                2                    1\n",
       "3    1   27   4.50                9                    1\n",
       "4    1   20   8.00                6                    1"
      ]
     },
     "execution_count": 5,
     "metadata": {},
     "output_type": "execute_result"
    }
   ],
   "source": [
    "churn_df = churn_df[['sex', 'age', 'Time', 'Number_of_Warts', 'Result_of_Treatment']]\n",
    "churn_df['Result_of_Treatment'] = churn_df['Result_of_Treatment'].astype('int')\n",
    "churn_df.head()"
   ]
  },
  {
   "cell_type": "code",
   "execution_count": 8,
   "metadata": {},
   "outputs": [
    {
     "data": {
      "text/plain": [
       "array([[ 1.  , 22.  ,  2.25, 14.  ],\n",
       "       [ 1.  , 15.  ,  3.  ,  2.  ],\n",
       "       [ 1.  , 16.  , 10.5 ,  2.  ],\n",
       "       [ 1.  , 27.  ,  4.5 ,  9.  ],\n",
       "       [ 1.  , 20.  ,  8.  ,  6.  ],\n",
       "       [ 1.  , 15.  ,  5.  ,  3.  ],\n",
       "       [ 1.  , 35.  ,  9.75,  2.  ],\n",
       "       [ 2.  , 28.  ,  7.5 ,  4.  ],\n",
       "       [ 2.  , 19.  ,  6.  ,  2.  ],\n",
       "       [ 2.  , 32.  , 12.  ,  6.  ],\n",
       "       [ 2.  , 33.  ,  6.25,  2.  ],\n",
       "       [ 2.  , 17.  ,  5.75, 12.  ],\n",
       "       [ 2.  , 15.  ,  1.75,  1.  ],\n",
       "       [ 2.  , 15.  ,  5.5 , 12.  ],\n",
       "       [ 2.  , 16.  , 10.  ,  7.  ],\n",
       "       [ 2.  , 33.  ,  9.25,  2.  ],\n",
       "       [ 2.  , 26.  ,  7.75,  6.  ],\n",
       "       [ 2.  , 23.  ,  7.5 , 10.  ],\n",
       "       [ 2.  , 15.  ,  6.5 , 19.  ],\n",
       "       [ 2.  , 26.  ,  6.75,  2.  ],\n",
       "       [ 1.  , 22.  ,  1.25,  3.  ],\n",
       "       [ 2.  , 19.  ,  2.25,  2.  ],\n",
       "       [ 2.  , 26.  , 10.5 ,  6.  ],\n",
       "       [ 1.  , 25.  ,  5.75,  2.  ],\n",
       "       [ 2.  , 17.  , 11.25,  4.  ],\n",
       "       [ 1.  , 27.  ,  5.  ,  2.  ],\n",
       "       [ 2.  , 24.  ,  4.75, 10.  ],\n",
       "       [ 1.  , 15.  , 11.  ,  6.  ],\n",
       "       [ 2.  , 34.  , 11.5 , 12.  ],\n",
       "       [ 2.  , 20.  ,  7.75, 18.  ],\n",
       "       [ 2.  , 38.  ,  2.5 ,  1.  ],\n",
       "       [ 1.  , 23.  ,  3.  ,  2.  ],\n",
       "       [ 2.  , 48.  , 10.25,  7.  ],\n",
       "       [ 2.  , 24.  ,  4.25,  1.  ],\n",
       "       [ 2.  , 33.  ,  8.  ,  3.  ],\n",
       "       [ 1.  , 34.  ,  5.  ,  7.  ],\n",
       "       [ 2.  , 41.  , 11.  , 11.  ],\n",
       "       [ 1.  , 29.  ,  8.75,  3.  ],\n",
       "       [ 2.  , 22.  ,  8.5 ,  5.  ],\n",
       "       [ 1.  , 45.  , 11.25,  4.  ],\n",
       "       [ 2.  , 22.  ,  8.25,  9.  ],\n",
       "       [ 1.  , 35.  ,  8.75, 10.  ],\n",
       "       [ 2.  , 34.  ,  8.5 ,  1.  ],\n",
       "       [ 1.  , 49.  ,  4.5 ,  2.  ],\n",
       "       [ 2.  , 19.  , 11.  ,  5.  ],\n",
       "       [ 1.  , 21.  ,  8.  ,  3.  ],\n",
       "       [ 1.  , 26.  ,  7.75, 13.  ],\n",
       "       [ 1.  , 51.  ,  8.75,  2.  ],\n",
       "       [ 1.  , 19.  ,  7.75,  6.  ],\n",
       "       [ 1.  , 38.  , 12.  , 14.  ],\n",
       "       [ 2.  , 36.  ,  1.75, 10.  ],\n",
       "       [ 2.  , 52.  ,  2.25,  5.  ],\n",
       "       [ 2.  , 49.  ,  9.  ,  4.  ],\n",
       "       [ 1.  , 23.  ,  5.75,  2.  ],\n",
       "       [ 1.  , 45.  , 10.  ,  8.  ],\n",
       "       [ 1.  , 54.  ,  7.5 , 13.  ],\n",
       "       [ 2.  , 47.  ,  5.25,  3.  ],\n",
       "       [ 2.  , 53.  , 10.  ,  1.  ],\n",
       "       [ 2.  , 56.  , 11.75,  7.  ],\n",
       "       [ 1.  , 27.  , 11.25,  3.  ],\n",
       "       [ 2.  , 47.  ,  3.75, 14.  ],\n",
       "       [ 2.  , 19.  ,  2.25,  8.  ],\n",
       "       [ 2.  , 33.  ,  8.  ,  5.  ],\n",
       "       [ 2.  , 15.  ,  4.  , 12.  ],\n",
       "       [ 1.  , 17.  ,  8.5 ,  2.  ],\n",
       "       [ 1.  , 29.  ,  5.  , 12.  ],\n",
       "       [ 1.  , 27.  , 11.75,  8.  ],\n",
       "       [ 2.  , 51.  ,  6.  ,  6.  ],\n",
       "       [ 1.  , 35.  ,  6.75,  4.  ],\n",
       "       [ 2.  , 47.  , 10.75,  8.  ],\n",
       "       [ 1.  , 43.  ,  8.  ,  1.  ],\n",
       "       [ 1.  , 15.  ,  4.  ,  4.  ],\n",
       "       [ 1.  , 33.  ,  1.75,  7.  ],\n",
       "       [ 2.  , 51.  ,  4.  ,  1.  ],\n",
       "       [ 1.  , 45.  ,  6.5 ,  9.  ],\n",
       "       [ 2.  , 47.  ,  9.25, 13.  ],\n",
       "       [ 1.  , 18.  , 11.75,  5.  ],\n",
       "       [ 2.  , 46.  ,  7.75,  8.  ],\n",
       "       [ 1.  , 43.  , 11.  ,  7.  ],\n",
       "       [ 2.  , 28.  , 11.  ,  3.  ],\n",
       "       [ 1.  , 30.  ,  1.  ,  2.  ],\n",
       "       [ 2.  , 16.  ,  2.  , 11.  ],\n",
       "       [ 2.  , 42.  ,  8.75,  8.  ],\n",
       "       [ 2.  , 15.  ,  8.  ,  1.  ],\n",
       "       [ 2.  , 53.  ,  7.25,  6.  ],\n",
       "       [ 1.  , 40.  ,  5.5 ,  8.  ],\n",
       "       [ 1.  , 38.  ,  7.5 ,  8.  ],\n",
       "       [ 1.  , 46.  , 11.5 ,  4.  ],\n",
       "       [ 1.  , 32.  , 12.  ,  9.  ],\n",
       "       [ 2.  , 23.  ,  6.75,  6.  ]])"
      ]
     },
     "execution_count": 8,
     "metadata": {},
     "output_type": "execute_result"
    }
   ],
   "source": [
    "X = np.asarray(churn_df[['sex', 'age', 'Time', 'Number_of_Warts']])\n",
    "X[0:90]"
   ]
  },
  {
   "cell_type": "code",
   "execution_count": 9,
   "metadata": {},
   "outputs": [
    {
     "data": {
      "text/plain": [
       "array([1, 1, 1, 1, 1, 1, 1, 1, 1, 0, 1, 1, 0, 1, 1, 1, 1, 1, 1, 1, 1, 1,\n",
       "       0, 1, 1, 1, 1, 0, 0, 1, 1, 1, 1, 1, 1, 0, 0, 1, 1, 0, 1, 1, 0, 0,\n",
       "       1, 1, 1, 1, 1, 0, 1, 1, 1, 1, 1, 1, 1, 1, 0, 1, 1, 1, 1, 1, 1, 1,\n",
       "       0, 1, 1, 0, 1, 1, 0, 1, 1, 1, 1, 1, 1, 0, 1, 1, 0, 1, 1, 1, 1, 0,\n",
       "       0, 1])"
      ]
     },
     "execution_count": 9,
     "metadata": {},
     "output_type": "execute_result"
    }
   ],
   "source": [
    "y = np.asarray(churn_df['Result_of_Treatment'])\n",
    "y [0:90]"
   ]
  },
  {
   "cell_type": "code",
   "execution_count": 15,
   "metadata": {},
   "outputs": [
    {
     "data": {
      "text/plain": [
       "array([[-1.09321633, -0.74334211, -1.61658786,  1.87538435],\n",
       "       [-1.09321633, -1.31865603, -1.37315299, -0.98941777],\n",
       "       [-1.09321633, -1.23646832,  1.06119571, -0.98941777],\n",
       "       [-1.09321633, -0.3324036 , -0.88628325,  0.6817168 ],\n",
       "       [-1.09321633, -0.90771751,  0.24974614, -0.03448373],\n",
       "       [-1.09321633, -1.31865603, -0.72399333, -0.75068426],\n",
       "       [-1.09321633,  0.32509802,  0.81776084, -0.98941777],\n",
       "       [ 0.91473203, -0.25021589,  0.08745623, -0.51195075],\n",
       "       [ 0.91473203, -0.98990522, -0.39941351, -0.98941777],\n",
       "       [ 0.91473203,  0.07853492,  1.54806545, -0.03448373],\n",
       "       [ 0.91473203,  0.16072262, -0.31826855, -0.98941777],\n",
       "       [ 0.91473203, -1.15428062, -0.48055847,  1.39791733],\n",
       "       [ 0.91473203, -1.31865603, -1.77887777, -1.22815128],\n",
       "       [ 0.91473203, -1.31865603, -0.56170342,  1.39791733],\n",
       "       [ 0.91473203, -1.23646832,  0.8989058 ,  0.20424978],\n",
       "       [ 0.91473203,  0.16072262,  0.65547093, -0.98941777],\n",
       "       [ 0.91473203, -0.4145913 ,  0.16860119, -0.03448373],\n",
       "       [ 0.91473203, -0.66115441,  0.08745623,  0.92045031],\n",
       "       [ 0.91473203, -1.31865603, -0.2371236 ,  3.06905189],\n",
       "       [ 0.91473203, -0.4145913 , -0.15597864, -0.98941777],\n",
       "       [-1.09321633, -0.74334211, -1.94116768, -0.75068426],\n",
       "       [ 0.91473203, -0.98990522, -1.61658786, -0.98941777],\n",
       "       [ 0.91473203, -0.4145913 ,  1.06119571, -0.03448373],\n",
       "       [-1.09321633, -0.496779  , -0.48055847, -0.98941777],\n",
       "       [ 0.91473203, -1.15428062,  1.30463058, -0.51195075],\n",
       "       [-1.09321633, -0.3324036 , -0.72399333, -0.98941777],\n",
       "       [ 0.91473203, -0.5789667 , -0.80513829,  0.92045031],\n",
       "       [-1.09321633, -1.31865603,  1.22348562, -0.03448373],\n",
       "       [ 0.91473203,  0.24291032,  1.38577554,  1.39791733],\n",
       "       [ 0.91473203, -0.90771751,  0.16860119,  2.83031838],\n",
       "       [ 0.91473203,  0.57166113, -1.5354429 , -1.22815128],\n",
       "       [-1.09321633, -0.66115441, -1.37315299, -0.98941777],\n",
       "       [ 0.91473203,  1.39353816,  0.98005075,  0.20424978],\n",
       "       [ 0.91473203, -0.5789667 , -0.9674282 , -1.22815128],\n",
       "       [ 0.91473203,  0.16072262,  0.24974614, -0.75068426],\n",
       "       [-1.09321633,  0.24291032, -0.72399333,  0.20424978],\n",
       "       [ 0.91473203,  0.81822424,  1.22348562,  1.15918382],\n",
       "       [-1.09321633, -0.16802819,  0.49318101, -0.75068426],\n",
       "       [ 0.91473203, -0.74334211,  0.41203606, -0.27321724],\n",
       "       [-1.09321633,  1.14697505,  1.30463058, -0.51195075],\n",
       "       [ 0.91473203, -0.74334211,  0.3308911 ,  0.6817168 ],\n",
       "       [-1.09321633,  0.32509802,  0.49318101,  0.92045031],\n",
       "       [ 0.91473203,  0.24291032,  0.41203606, -1.22815128],\n",
       "       [-1.09321633,  1.47572586, -0.88628325, -0.98941777],\n",
       "       [ 0.91473203, -0.98990522,  1.22348562, -0.27321724],\n",
       "       [-1.09321633, -0.82552981,  0.24974614, -0.75068426],\n",
       "       [-1.09321633, -0.4145913 ,  0.16860119,  1.63665084],\n",
       "       [-1.09321633,  1.64010126,  0.49318101, -0.98941777],\n",
       "       [-1.09321633, -0.98990522,  0.16860119, -0.03448373],\n",
       "       [-1.09321633,  0.57166113,  1.54806545,  1.87538435],\n",
       "       [ 0.91473203,  0.40728573, -1.77887777,  0.92045031],\n",
       "       [ 0.91473203,  1.72228897, -1.61658786, -0.27321724],\n",
       "       [ 0.91473203,  1.47572586,  0.57432597, -0.51195075],\n",
       "       [-1.09321633, -0.66115441, -0.48055847, -0.98941777],\n",
       "       [-1.09321633,  1.14697505,  0.8989058 ,  0.44298329],\n",
       "       [-1.09321633,  1.88666437,  0.08745623,  1.63665084],\n",
       "       [ 0.91473203,  1.31135045, -0.64284838, -0.75068426],\n",
       "       [ 0.91473203,  1.80447667,  0.8989058 , -1.22815128],\n",
       "       [ 0.91473203,  2.05103977,  1.46692049,  0.20424978],\n",
       "       [-1.09321633, -0.3324036 ,  1.30463058, -0.75068426],\n",
       "       [ 0.91473203,  1.31135045, -1.12971812,  1.87538435],\n",
       "       [ 0.91473203, -0.98990522, -1.61658786,  0.44298329],\n",
       "       [ 0.91473203,  0.16072262,  0.24974614, -0.27321724],\n",
       "       [ 0.91473203, -1.31865603, -1.04857316,  1.39791733],\n",
       "       [-1.09321633, -1.15428062,  0.41203606, -0.98941777],\n",
       "       [-1.09321633, -0.16802819, -0.72399333,  1.39791733],\n",
       "       [-1.09321633, -0.3324036 ,  1.46692049,  0.44298329],\n",
       "       [ 0.91473203,  1.64010126, -0.39941351, -0.03448373],\n",
       "       [-1.09321633,  0.32509802, -0.15597864, -0.51195075],\n",
       "       [ 0.91473203,  1.31135045,  1.14234067,  0.44298329],\n",
       "       [-1.09321633,  0.98259964,  0.24974614, -1.22815128],\n",
       "       [-1.09321633, -1.31865603, -1.04857316, -0.51195075],\n",
       "       [-1.09321633,  0.16072262, -1.77887777,  0.20424978],\n",
       "       [ 0.91473203,  1.64010126, -1.04857316, -1.22815128],\n",
       "       [-1.09321633,  1.14697505, -0.2371236 ,  0.6817168 ],\n",
       "       [ 0.91473203,  1.31135045,  0.65547093,  1.63665084],\n",
       "       [-1.09321633, -1.07209292,  1.46692049, -0.27321724],\n",
       "       [ 0.91473203,  1.22916275,  0.16860119,  0.44298329],\n",
       "       [-1.09321633,  0.98259964,  1.22348562,  0.20424978],\n",
       "       [ 0.91473203, -0.25021589,  1.22348562, -0.75068426],\n",
       "       [-1.09321633, -0.08584049, -2.02231264, -0.98941777],\n",
       "       [ 0.91473203, -1.23646832, -1.69773281,  1.15918382],\n",
       "       [ 0.91473203,  0.90041194,  0.49318101,  0.44298329],\n",
       "       [ 0.91473203, -1.31865603,  0.24974614, -1.22815128],\n",
       "       [ 0.91473203,  1.80447667,  0.00631127, -0.03448373],\n",
       "       [-1.09321633,  0.73603654, -0.56170342,  0.44298329],\n",
       "       [-1.09321633,  0.57166113,  0.08745623,  0.44298329],\n",
       "       [-1.09321633,  1.22916275,  1.38577554, -0.51195075],\n",
       "       [-1.09321633,  0.07853492,  1.54806545,  0.6817168 ],\n",
       "       [ 0.91473203, -0.66115441, -0.15597864, -0.03448373]])"
      ]
     },
     "execution_count": 15,
     "metadata": {},
     "output_type": "execute_result"
    }
   ],
   "source": [
    "from sklearn import preprocessing\n",
    "X = preprocessing.StandardScaler().fit(X).transform(X)\n",
    "X[0:90]"
   ]
  },
  {
   "cell_type": "code",
   "execution_count": 16,
   "metadata": {},
   "outputs": [
    {
     "name": "stdout",
     "output_type": "stream",
     "text": [
      "Train set: (72, 4) (72,)\n",
      "Test set: (18, 4) (18,)\n"
     ]
    }
   ],
   "source": [
    "from sklearn.model_selection import train_test_split\n",
    "X_train, X_test, y_train, y_test = train_test_split( X, y, test_size=0.2, random_state=4)\n",
    "print ('Train set:', X_train.shape,  y_train.shape)\n",
    "print ('Test set:', X_test.shape,  y_test.shape)"
   ]
  },
  {
   "cell_type": "code",
   "execution_count": 17,
   "metadata": {},
   "outputs": [
    {
     "data": {
      "text/plain": [
       "LogisticRegression(C=0.01, class_weight=None, dual=False, fit_intercept=True,\n",
       "                   intercept_scaling=1, l1_ratio=None, max_iter=100,\n",
       "                   multi_class='warn', n_jobs=None, penalty='l2',\n",
       "                   random_state=None, solver='liblinear', tol=0.0001, verbose=0,\n",
       "                   warm_start=False)"
      ]
     },
     "execution_count": 17,
     "metadata": {},
     "output_type": "execute_result"
    }
   ],
   "source": [
    "from sklearn.linear_model import LogisticRegression\n",
    "from sklearn.metrics import confusion_matrix\n",
    "LR = LogisticRegression(C=0.01, solver='liblinear').fit(X_train,y_train)\n",
    "LR"
   ]
  },
  {
   "cell_type": "code",
   "execution_count": 18,
   "metadata": {},
   "outputs": [
    {
     "data": {
      "text/plain": [
       "array([1, 1, 1, 1, 1, 1, 1, 1, 1, 1, 1, 1, 1, 1, 0, 1, 1, 1])"
      ]
     },
     "execution_count": 18,
     "metadata": {},
     "output_type": "execute_result"
    }
   ],
   "source": [
    "yhat = LR.predict(X_test)\n",
    "yhat"
   ]
  },
  {
   "cell_type": "code",
   "execution_count": 19,
   "metadata": {},
   "outputs": [
    {
     "data": {
      "text/plain": [
       "array([[0.464637  , 0.535363  ],\n",
       "       [0.44177026, 0.55822974],\n",
       "       [0.48604571, 0.51395429],\n",
       "       [0.45129871, 0.54870129],\n",
       "       [0.4683274 , 0.5316726 ],\n",
       "       [0.40712453, 0.59287547],\n",
       "       [0.44973925, 0.55026075],\n",
       "       [0.48361824, 0.51638176],\n",
       "       [0.40301917, 0.59698083],\n",
       "       [0.47254352, 0.52745648],\n",
       "       [0.47318743, 0.52681257],\n",
       "       [0.43506318, 0.56493682],\n",
       "       [0.47890172, 0.52109828],\n",
       "       [0.45880784, 0.54119216],\n",
       "       [0.5035649 , 0.4964351 ],\n",
       "       [0.48558539, 0.51441461],\n",
       "       [0.47117608, 0.52882392],\n",
       "       [0.45881556, 0.54118444]])"
      ]
     },
     "execution_count": 19,
     "metadata": {},
     "output_type": "execute_result"
    }
   ],
   "source": [
    "yhat_prob = LR.predict_proba(X_test)\n",
    "yhat_prob"
   ]
  },
  {
   "cell_type": "code",
   "execution_count": 20,
   "metadata": {},
   "outputs": [
    {
     "name": "stderr",
     "output_type": "stream",
     "text": [
      "E:\\KULIAH\\FGA\\digitalent2\\EDA\\lib\\site-packages\\sklearn\\metrics\\classification.py:635: DeprecationWarning: jaccard_similarity_score has been deprecated and replaced with jaccard_score. It will be removed in version 0.23. This implementation has surprising behavior for binary and multiclass classification tasks.\n",
      "  'and multiclass classification tasks.', DeprecationWarning)\n"
     ]
    },
    {
     "data": {
      "text/plain": [
       "0.8888888888888888"
      ]
     },
     "execution_count": 20,
     "metadata": {},
     "output_type": "execute_result"
    }
   ],
   "source": [
    "from sklearn.metrics import jaccard_similarity_score\n",
    "jaccard_similarity_score(y_test, yhat)"
   ]
  },
  {
   "cell_type": "code",
   "execution_count": 21,
   "metadata": {},
   "outputs": [
    {
     "name": "stdout",
     "output_type": "stream",
     "text": [
      "[[15  0]\n",
      " [ 2  1]]\n"
     ]
    }
   ],
   "source": [
    "from sklearn.metrics import classification_report, confusion_matrix\n",
    "import itertools\n",
    "def plot_confusion_matrix(cm, classes,\n",
    "                          normalize=False,\n",
    "                          title='Confusion matrix',\n",
    "                          cmap=plt.cm.Blues):\n",
    "    \"\"\"\n",
    "    This function prints and plots the confusion matrix.\n",
    "    Normalization can be applied by setting `normalize=True`.\n",
    "    \"\"\"\n",
    "    if normalize:\n",
    "        cm = cm.astype('float') / cm.sum(axis=1)[:, np.newaxis]\n",
    "        print(\"Normalized confusion matrix\")\n",
    "    else:\n",
    "        print('Confusion matrix, without normalization')\n",
    "\n",
    "    print(cm)\n",
    "\n",
    "    plt.imshow(cm, interpolation='nearest', cmap=cmap)\n",
    "    plt.title(title)\n",
    "    plt.colorbar()\n",
    "    tick_marks = np.arange(len(classes))\n",
    "    plt.xticks(tick_marks, classes, rotation=45)\n",
    "    plt.yticks(tick_marks, classes)\n",
    "\n",
    "    fmt = '.2f' if normalize else 'd'\n",
    "    thresh = cm.max() / 2.\n",
    "    for i, j in itertools.product(range(cm.shape[0]), range(cm.shape[1])):\n",
    "        plt.text(j, i, format(cm[i, j], fmt),\n",
    "                 horizontalalignment=\"center\",\n",
    "                 color=\"white\" if cm[i, j] > thresh else \"black\")\n",
    "\n",
    "    plt.tight_layout()\n",
    "    plt.ylabel('True label')\n",
    "    plt.xlabel('Predicted label')\n",
    "print(confusion_matrix(y_test, yhat, labels=[1,0]))"
   ]
  },
  {
   "cell_type": "code",
   "execution_count": 22,
   "metadata": {},
   "outputs": [
    {
     "name": "stdout",
     "output_type": "stream",
     "text": [
      "Confusion matrix, without normalization\n",
      "[[15  0]\n",
      " [ 2  1]]\n"
     ]
    },
    {
     "data": {
      "image/png": "[encoded data removed]",
      "text/plain": [
       "<Figure size 432x288 with 2 Axes>"
      ]
     },
     "metadata": {
      "needs_background": "light"
     },
     "output_type": "display_data"
    }
   ],
   "source": [
    "cnf_matrix = confusion_matrix(y_test, yhat, labels=[1,0])\n",
    "np.set_printoptions(precision=2)\n",
    "plt.figure()\n",
    "plot_confusion_matrix(cnf_matrix, classes=['churn=1','churn=0'],normalize= False,  title='Confusion matrix')"
   ]
  },
  {
   "cell_type": "code",
   "execution_count": 23,
   "metadata": {},
   "outputs": [
    {
     "name": "stdout",
     "output_type": "stream",
     "text": [
      "              precision    recall  f1-score   support\n",
      "\n",
      "           0       1.00      0.33      0.50         3\n",
      "           1       0.88      1.00      0.94        15\n",
      "\n",
      "    accuracy                           0.89        18\n",
      "   macro avg       0.94      0.67      0.72        18\n",
      "weighted avg       0.90      0.89      0.86        18\n",
      "\n"
     ]
    }
   ],
   "source": [
    "print (classification_report(y_test, yhat))\n"
   ]
  },
  {
   "cell_type": "code",
   "execution_count": 24,
   "metadata": {},
   "outputs": [
    {
     "data": {
      "text/plain": [
       "0.6337625884790437"
      ]
     },
     "execution_count": 24,
     "metadata": {},
     "output_type": "execute_result"
    }
   ],
   "source": [
    "from sklearn.metrics import log_loss\n",
    "log_loss(y_test, yhat_prob)"
   ]
  },
  {
   "cell_type": "code",
   "execution_count": null,
   "metadata": {},
   "outputs": [],
   "source": []
  }
 ],
 "metadata": {
  "kernelspec": {
   "display_name": "Python 3",
   "language": "python",
   "name": "python3"
  },
  "language_info": {
   "codemirror_mode": {
    "name": "ipython",
    "version": 3
   },
   "file_extension": ".py",
   "mimetype": "text/x-python",
   "name": "python",
   "nbconvert_exporter": "python",
   "pygments_lexer": "ipython3",
   "version": "3.6.9"
  }
 },
 "nbformat": 4,
 "nbformat_minor": 4
}
